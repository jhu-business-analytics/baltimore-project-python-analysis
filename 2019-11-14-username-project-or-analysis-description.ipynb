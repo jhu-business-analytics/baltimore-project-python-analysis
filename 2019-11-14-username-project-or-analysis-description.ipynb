{
 "cells": [
  {
   "cell_type": "markdown",
   "metadata": {},
   "source": [
    "# Title for Analysis "
   ]
  },
  {
   "cell_type": "markdown",
   "metadata": {},
   "source": [
    "Give a few sentence background of your analysis. This can be copied and pasted from the original problem statement."
   ]
  },
  {
   "cell_type": "markdown",
   "metadata": {},
   "source": [
    "## import libraries"
   ]
  },
  {
   "cell_type": "code",
   "execution_count": 1,
   "metadata": {},
   "outputs": [],
   "source": [
    "# most likely\n",
    "# import pandas as pd\n",
    "# import plotly.express as px\n",
    "\n",
    "# for geospatial\n",
    "# import geopandas"
   ]
  },
  {
   "cell_type": "markdown",
   "metadata": {},
   "source": [
    "## import data "
   ]
  },
  {
   "cell_type": "code",
   "execution_count": 2,
   "metadata": {},
   "outputs": [],
   "source": [
    "# are you working with a csv or excel document?\n",
    "# define your initial dataframe as df_description_of_data\n",
    "\n",
    "# df = pd.read_csv(\"file_path_name.csv\")"
   ]
  },
  {
   "cell_type": "markdown",
   "metadata": {},
   "source": [
    "## clean data "
   ]
  },
  {
   "cell_type": "markdown",
   "metadata": {},
   "source": [
    "Define the data in a data dictionary: \n",
    " - __column 1__: data in column 1 description\n",
    " - __column 2__: data in column 2 description\n",
    " - __column 3__: data in column 3 description\n",
    "\n",
    "This may be copied and pasted from Baltimore City government contacts/Open Data"
   ]
  },
  {
   "cell_type": "code",
   "execution_count": 3,
   "metadata": {},
   "outputs": [],
   "source": [
    "# what does your data look like (e.g. df.head())?\n",
    "# do you need to add or manipulate any of the columns to get a better idea of the data?\n",
    "# do you want to aggregate or perform group calulations with your data?\n",
    "# how do these columns relate to your initial department business question?\n"
   ]
  },
  {
   "cell_type": "markdown",
   "metadata": {},
   "source": [
    "## build a data visualization with plotly "
   ]
  },
  {
   "cell_type": "code",
   "execution_count": 4,
   "metadata": {},
   "outputs": [],
   "source": [
    "# what types of data visualizations will help you understand the data better?\n",
    "# how can you better refine your data to dive deeper into these insights?"
   ]
  },
  {
   "cell_type": "code",
   "execution_count": 5,
   "metadata": {},
   "outputs": [],
   "source": [
    "# use plotly express to build a data visualization with your work "
   ]
  },
  {
   "cell_type": "code",
   "execution_count": null,
   "metadata": {},
   "outputs": [],
   "source": [
    "figure_name = px.scatter(df, # name of dataframe for viz\n",
    "                           x=\"column name for x axis\", \n",
    "                           y=\"column name for y axis\", \n",
    "                           animation_frame=\"column name for animation 'screenshot'\", \n",
    "                           #animation_group=\"column for animation group if not by frame\",\n",
    "                           size=\"column name that determines size of bubble\", \n",
    "                           color=\"column name that determines color category\", \n",
    "                           hover_name=\"column name for data to appear on hover\",\n",
    "                           range_x=[0,30], # set a range for x axis if you're making an animation so that it's consistent between frames \n",
    "                           range_y=[0,100000],# range for y axis\n",
    "                             title = \"title for chart\",\n",
    "                             labels = {\"column name\": \"name that you want to relabel this as\", \n",
    "                                       \"column name\": \"name that you want to relabel this as\"},)\n",
    "\n"
   ]
  },
  {
   "cell_type": "markdown",
   "metadata": {},
   "source": [
    "## What's interesting about the data and what are your next steps? "
   ]
  },
  {
   "cell_type": "markdown",
   "metadata": {},
   "source": [
    " - What does this data show? \n",
    " - Are there any trends?\n",
    "     - largest vs smallest\n",
    "     - clustering of data\n",
    "     - annual/seasonal trends\n",
    "     - geospatial trends\n",
    "     - something increasing or decreasing over time\n",
    "     - departmental characteristics\n",
    " - Are there no explicit trends?\n",
    " - How might you want to merge this data with other data to gain a better insight?\n",
    " - What outside factors might lead to these effects (e.g. new policies, new leadership, weather patterns, etc.)?\n",
    " - Is there anything confusing about this data?\n",
    " - How can you make this data more useful?\n",
    " - Does this help inform any of the original business questions from Baltimore City government?\n",
    " - What questions do you have for Baltimore City government to better refine or aggregate your data?\n",
    " - Is there a specific type or format of analysis that you might want to perform, but don't know how to?\n",
    " - Does this visualization bring up any additional questions that relate to the original business question?\n",
    " - Are there terms/IDs in the data that are not well defined?"
   ]
  },
  {
   "cell_type": "markdown",
   "metadata": {},
   "source": [
    "## export an interactive visualization for your city department "
   ]
  },
  {
   "cell_type": "code",
   "execution_count": null,
   "metadata": {},
   "outputs": [],
   "source": [
    "# export visualization as an html document\n",
    "figure_name.write_html(\"html_file_name.html\")"
   ]
  },
  {
   "cell_type": "code",
   "execution_count": null,
   "metadata": {},
   "outputs": [],
   "source": [
    "# export data as csv\n",
    "df.to_csv(\"csv_file_name.csv\")"
   ]
  },
  {
   "cell_type": "code",
   "execution_count": null,
   "metadata": {},
   "outputs": [],
   "source": [
    "# export data as excel\n",
    "df.to_excel(\"csv_file_name.xlsx\")"
   ]
  }
 ],
 "metadata": {
  "kernelspec": {
   "display_name": "Python 3",
   "language": "python",
   "name": "python3"
  },
  "language_info": {
   "codemirror_mode": {
    "name": "ipython",
    "version": 3
   },
   "file_extension": ".py",
   "mimetype": "text/x-python",
   "name": "python",
   "nbconvert_exporter": "python",
   "pygments_lexer": "ipython3",
   "version": "3.6.6"
  }
 },
 "nbformat": 4,
 "nbformat_minor": 2
}
